{
  "cells": [
    {
      "cell_type": "markdown",
      "metadata": {
        "id": "6Qf0un41ZN0E"
      },
      "source": [
        "# Object-Oriented-Programming (OOP)"
      ]
    },
    {
      "cell_type": "markdown",
      "metadata": {
        "id": "l2bqQCo9ZN0F"
      },
      "source": [
        "## Tasks Today:\n",
        "\n",
        "   \n",
        "\n",
        "1) <b>Creating a Class (Initializing/Declaring)</b> <br>\n",
        "2) <b>Using a Class (Instantiating)</b> <br>\n",
        " &nbsp;&nbsp;&nbsp;&nbsp; a) Creating One Instance <br>\n",
        " &nbsp;&nbsp;&nbsp;&nbsp; b) Creating Multiple Instances <br>\n",
        " &nbsp;&nbsp;&nbsp;&nbsp; c) In-Class Exercise #1 - Create a Class 'Car' and instantiate three different makes of cars <br>\n",
        "3) <b>The \\__init\\__() Method</b> <br>\n",
        " &nbsp;&nbsp;&nbsp;&nbsp; a) The 'self' Attribute <br>\n",
        "4) <b>Class Attributes</b> <br>\n",
        " &nbsp;&nbsp;&nbsp;&nbsp; a) Initializing Attributes <br>\n",
        " &nbsp;&nbsp;&nbsp;&nbsp; b) Setting an Attribute Outside of the \\__init\\__() Method <br>\n",
        " &nbsp;&nbsp;&nbsp;&nbsp; c) Setting Defaults for Attributes <br>\n",
        " &nbsp;&nbsp;&nbsp;&nbsp; d) Accessing Class Attributes <br>\n",
        " &nbsp;&nbsp;&nbsp;&nbsp; e) Changing Class Attributes <br>\n",
        " &nbsp;&nbsp;&nbsp;&nbsp; f) In-Class Exercise #2 - Add a color and wheels attribute to your 'Car' class <br>\n",
        "5) <b>Class Methods</b> <br>\n",
        " &nbsp;&nbsp;&nbsp;&nbsp; a) Creating <br>\n",
        " &nbsp;&nbsp;&nbsp;&nbsp; b) Calling <br>\n",
        " &nbsp;&nbsp;&nbsp;&nbsp; c) Modifying an Attribute's Value Through a Method <br>\n",
        " &nbsp;&nbsp;&nbsp;&nbsp; d) Incrementing an Attribute's Value Through a Method <br>\n",
        " &nbsp;&nbsp;&nbsp;&nbsp; e) In-Class Exercise #3 - Add a method that prints the cars color and wheel number, then call them <br>\n",
        "6) <b>Inheritance</b> <br>\n",
        " &nbsp;&nbsp;&nbsp;&nbsp; a) Syntax for Inheriting from a Parent Class <br>\n",
        " &nbsp;&nbsp;&nbsp;&nbsp; b) The \\__init\\__() Method for a Child Class (super()) <br>\n",
        " &nbsp;&nbsp;&nbsp;&nbsp; c) Defining Attributes and Methods for the Child Class <br>\n",
        " &nbsp;&nbsp;&nbsp;&nbsp; d) Method Overriding <br>\n",
        " &nbsp;&nbsp;&nbsp;&nbsp; e) In-Class Exercise #4 - Create a class 'Ford' that inherits from 'Car' class and initialize it as a Blue Ford Explorer with 4 wheels using the super() method <br>\n",
        "7) <b>Classes as Attributes</b> <br>\n",
        "8) <b>Exercises</b> <br>\n",
        " &nbsp;&nbsp;&nbsp;&nbsp; a) Exercise #1 - Turn the shopping cart program from yesterday into an object-oriented program <br>"
      ]
    },
    {
      "cell_type": "markdown",
      "metadata": {
        "id": "CsRKnrfhZN0G"
      },
      "source": [
        "## Creating a Class (Initializing/Declaring)\n",
        "<p>When creating a class, function, or even a variable you are initializing that object. Initializing and Declaring occur at the same time in Python, whereas in lower level languages you have to declare an object before initializing it. This is the first step in the process of using a class.</p>"
      ]
    },
    {
      "cell_type": "code",
      "execution_count": null,
      "metadata": {
        "id": "FXl2SHeWZN0H"
      },
      "outputs": [],
      "source": [
        "class Car():\n",
        "    wheels = 4\n",
        "    color = 'blue'"
      ]
    },
    {
      "cell_type": "markdown",
      "metadata": {
        "id": "oWUwuWliZN0I"
      },
      "source": [
        "## Using a Class (Instantiating)\n",
        "<p>The process of creating a class is called <i>Instantiating</i>. Each time you create a variable of that type of class, it is referred to as an <i>Instance</i> of that class. This is the second step in the process of using a class.</p>"
      ]
    },
    {
      "cell_type": "markdown",
      "metadata": {
        "id": "4V5H-5lNZN0I"
      },
      "source": [
        "##### Creating One Instance"
      ]
    },
    {
      "cell_type": "code",
      "execution_count": null,
      "metadata": {
        "id": "qourYPEtZN0I",
        "outputId": "bae02cbf-d6aa-48ef-d67e-4488eddb6e6a"
      },
      "outputs": [
        {
          "name": "stdout",
          "output_type": "stream",
          "text": [
            "blue\n"
          ]
        }
      ],
      "source": [
        "ford = Car()\n",
        "\n",
        "print(ford.color)"
      ]
    },
    {
      "cell_type": "markdown",
      "metadata": {
        "id": "ehQV0Gr6ZN0J"
      },
      "source": [
        "##### Creating Multiple Instances"
      ]
    },
    {
      "cell_type": "code",
      "execution_count": null,
      "metadata": {
        "id": "yKM5hJa3ZN0J",
        "outputId": "e71c3f25-aa5e-41a0-f182-9c0e40aa4be9"
      },
      "outputs": [
        {
          "name": "stdout",
          "output_type": "stream",
          "text": [
            "<class 'str'>\n"
          ]
        },
        {
          "ename": "AttributeError",
          "evalue": "'Car' object has no attribute 'bumper'",
          "output_type": "error",
          "traceback": [
            "\u001b[1;31m---------------------------------------------------------------------------\u001b[0m",
            "\u001b[1;31mAttributeError\u001b[0m                            Traceback (most recent call last)",
            "\u001b[1;32m<ipython-input-9-588218de20be>\u001b[0m in \u001b[0;36m<module>\u001b[1;34m\u001b[0m\n\u001b[0;32m      4\u001b[0m \u001b[1;33m\u001b[0m\u001b[0m\n\u001b[0;32m      5\u001b[0m \u001b[0mprint\u001b[0m\u001b[1;33m(\u001b[0m\u001b[0mtype\u001b[0m\u001b[1;33m(\u001b[0m\u001b[0mporsche\u001b[0m\u001b[1;33m.\u001b[0m\u001b[0mcolor\u001b[0m\u001b[1;33m)\u001b[0m\u001b[1;33m)\u001b[0m\u001b[1;33m\u001b[0m\u001b[1;33m\u001b[0m\u001b[0m\n\u001b[1;32m----> 6\u001b[1;33m \u001b[0mprint\u001b[0m\u001b[1;33m(\u001b[0m\u001b[0mporsche\u001b[0m\u001b[1;33m.\u001b[0m\u001b[0mbumper\u001b[0m\u001b[1;33m)\u001b[0m\u001b[1;33m\u001b[0m\u001b[1;33m\u001b[0m\u001b[0m\n\u001b[0m",
            "\u001b[1;31mAttributeError\u001b[0m: 'Car' object has no attribute 'bumper'"
          ]
        }
      ],
      "source": [
        "chevy = Car()\n",
        "honda = Car()\n",
        "porsche = Car()\n",
        "\n",
        "print(type(porsche.color))\n",
        "print(porsche.bumper)"
      ]
    },
    {
      "cell_type": "markdown",
      "metadata": {
        "id": "kghMgMMsZN0J"
      },
      "source": [
        "##### In-Class Exercise #1 - Create a Class 'Car' and Instantiate three different makes of cars"
      ]
    },
    {
      "cell_type": "code",
      "execution_count": null,
      "metadata": {
        "id": "PVF59rzZZN0J",
        "outputId": "d7c51d71-b148-434e-a1cb-b280df7b2fae"
      },
      "outputs": [
        {
          "name": "stdout",
          "output_type": "stream",
          "text": [
            "red\n",
            "4\n"
          ]
        }
      ],
      "source": [
        "class Car():\n",
        "    doors = 4\n",
        "    color = \"red\"\n",
        "    wheels = 4\n",
        "    sunRoof = \"Yes\"\n",
        "    \n",
        "maz = Car()\n",
        "bently = Car()\n",
        "fer = Car()\n",
        "\n",
        "print(bently.color)\n",
        "print(bently.wheels)"
      ]
    },
    {
      "cell_type": "markdown",
      "metadata": {
        "id": "NZ_Y88qhZN0K"
      },
      "source": [
        "## The \\__init\\__() Method <br>\n",
        "<p>This method is used in almost every created class, and called only once upon the creation of the class instance. This method will initialize all variables needed for the object.</p>"
      ]
    },
    {
      "cell_type": "code",
      "execution_count": null,
      "metadata": {
        "id": "VTz-ynzzZN0K",
        "outputId": "2029e6de-43ab-4058-99cc-fb0bfdeab44f"
      },
      "outputs": [
        {
          "name": "stdout",
          "output_type": "stream",
          "text": [
            "4\n",
            "6\n"
          ]
        }
      ],
      "source": [
        "class Car():\n",
        "    engine = '4.7L' # constant-attribute\n",
        "    \n",
        "    def __init__(self,wheels,color):\n",
        "        self.wheels = wheels\n",
        "        self.color = color\n",
        "        \n",
        "ford = Car(4,'red')\n",
        "chevy = Car(6, 'black')\n",
        "\n",
        "print(ford.wheels)\n",
        "print(chevy.wheels)"
      ]
    },
    {
      "cell_type": "markdown",
      "metadata": {
        "id": "YqtQgsn1ZN0K"
      },
      "source": [
        "##### The 'self' Attribute <br>\n",
        "<p>This attribute is required to keep track of specific instance's attributes. Without the self attribute, the program would not know how to reference or keep track of an instance's attributes.</p>"
      ]
    },
    {
      "cell_type": "code",
      "execution_count": null,
      "metadata": {
        "id": "AsRcwVNwZN0K"
      },
      "outputs": [],
      "source": [
        "# see above"
      ]
    },
    {
      "cell_type": "markdown",
      "metadata": {
        "id": "qxiB28GqZN0K"
      },
      "source": [
        "## Class Attributes <br>\n",
        "<p>While variables are inside of a class, they are referred to as attributes and not variables. When someone says 'attribute' you know they're speaking about a class. Attributes can be initialized through the init method, or outside of it.</p>"
      ]
    },
    {
      "cell_type": "markdown",
      "metadata": {
        "id": "Fe9ABOd-ZN0K"
      },
      "source": [
        "##### Initializing Attributes"
      ]
    },
    {
      "cell_type": "code",
      "execution_count": null,
      "metadata": {
        "id": "P2m06u9KZN0K"
      },
      "outputs": [],
      "source": [
        "# see above\n",
        "\n",
        "class Toy():\n",
        "    kind = \"car\" # Constant - DOES NOT CHANGE FREQUENTLY\n",
        "    \n",
        "    def __init__(self,rooftop,horn,wheels):\n",
        "        self.rooftop = rooftop\n",
        "        self.horn = horn\n",
        "        self.wheels = wheels\n",
        "        \n",
        "tanka_truck = Toy(1,1,4) # 1 rooftop, 1 horn, 4 wheels\n",
        "hotwheels_car = Toy(2, 3, 8) # 2 rooftops, 3 horns, 8 wheels"
      ]
    },
    {
      "cell_type": "markdown",
      "metadata": {
        "id": "aVuQHjnrZN0L"
      },
      "source": [
        "##### Accessing Class Attributes"
      ]
    },
    {
      "cell_type": "code",
      "execution_count": null,
      "metadata": {
        "scrolled": true,
        "id": "Xqc38ulKZN0L",
        "outputId": "926314ef-235e-4728-e6d6-6b8dee9b4751"
      },
      "outputs": [
        {
          "data": {
            "text/plain": [
              "1"
            ]
          },
          "execution_count": 13,
          "metadata": {},
          "output_type": "execute_result"
        }
      ],
      "source": [
        "# See Above\n",
        "tanka_truck.rooftop"
      ]
    },
    {
      "cell_type": "markdown",
      "metadata": {
        "id": "fCGUEJNTZN0L"
      },
      "source": [
        "##### Setting Defaults for Attributes"
      ]
    },
    {
      "cell_type": "code",
      "execution_count": null,
      "metadata": {
        "id": "RvUTQV5hZN0L"
      },
      "outputs": [],
      "source": [
        "class Car():\n",
        "    engine = '4.7L'\n",
        "    \n",
        "    def __init__(self,wheels):\n",
        "        self.wheels = wheels\n",
        "        self.color = 'Blue' # Default Attribute\n",
        "        \n",
        "honda = Car(4)\n",
        "jeep = Car(8)"
      ]
    },
    {
      "cell_type": "markdown",
      "metadata": {
        "id": "d9ec_XE9ZN0L"
      },
      "source": [
        "##### Changing Class Attributes <br>\n",
        "<p>Keep in mind there are global class attributes and then there are attributes only available to each class instance which won't effect other classes.</p>"
      ]
    },
    {
      "cell_type": "code",
      "execution_count": null,
      "metadata": {
        "id": "fxtrb3EnZN0L",
        "outputId": "1c7d1b5d-c38f-41ff-816a-c306b77ccf04"
      },
      "outputs": [
        {
          "name": "stdout",
          "output_type": "stream",
          "text": [
            "BEFORE CHANGE: White\n",
            "\n",
            " AFTER CHANGE: White\n"
          ]
        }
      ],
      "source": [
        "# Changing the Default Attribute for this example\n",
        "print(f'BEFORE CHANGE: {jeep.color}')\n",
        "\n",
        "jeep.color = 'White'\n",
        "\n",
        "print(f'\\n AFTER CHANGE: {jeep.color}')\n"
      ]
    },
    {
      "cell_type": "code",
      "execution_count": null,
      "metadata": {
        "id": "V1Ogm0-DZN0M"
      },
      "outputs": [],
      "source": []
    },
    {
      "cell_type": "markdown",
      "metadata": {
        "id": "T6GHpXR0ZN0M"
      },
      "source": [
        "##### In-Class Exercise #2 - Add a doors and seats attribute to your 'Car' class then print out two different instances with different doors and seats"
      ]
    },
    {
      "cell_type": "code",
      "execution_count": null,
      "metadata": {
        "id": "SdEOAXFiZN0M",
        "outputId": "00970658-55bd-414a-9587-b2e2ec2d01df"
      },
      "outputs": [
        {
          "name": "stdout",
          "output_type": "stream",
          "text": [
            "Jeep seats: 4 and Jeep doors: 4 \n",
            "Honda seats: 2 and Honda doors: 2\n"
          ]
        }
      ],
      "source": [
        "# Jeep seats: 4 and Jeep doors: 4 \n",
        "# Honda seats: 2 and Honda doors: 2\n",
        "\n",
        "class Car():\n",
        "    speed = \"30MPH\"\n",
        "    \n",
        "    def __init__(self,doors,seats = 4):\n",
        "        self.doors = doors\n",
        "        self.seats = seats\n",
        "        \n",
        "honda = Car(2,2)\n",
        "jeep = Car(4,4)\n",
        "\n",
        "print(f\"Jeep seats: {jeep.seats} and Jeep doors: {jeep.doors} \")\n",
        "print(f\"Honda seats: {honda.seats} and Honda doors: {honda.doors}\")"
      ]
    },
    {
      "cell_type": "markdown",
      "metadata": {
        "id": "pNifZ8UaZN0M"
      },
      "source": [
        "## Class Methods <br>\n",
        "<p>While inside of a class, functions are referred to as 'methods'. If you hear someone mention methods, they're speaking about classes. Methods are essentially functions, but only callable on the instances of a class.</p>"
      ]
    },
    {
      "cell_type": "markdown",
      "metadata": {
        "id": "9AFKW4uKZN0M"
      },
      "source": [
        "##### Creating"
      ]
    },
    {
      "cell_type": "code",
      "execution_count": 5,
      "metadata": {
        "id": "eY6fuILDZN0M"
      },
      "outputs": [],
      "source": [
        "class ShoppingBag():\n",
        "    \"\"\"\n",
        "        The ShoppingBag Class will have handles, capacity and items\n",
        "        to place inside.\n",
        "        \n",
        "        Attributes for the class:\n",
        "        - handles: expected to be an integer\n",
        "        - capacity: expected to be a string OR an integer\n",
        "        - items: expected to be a list\n",
        "    \"\"\"\n",
        "    \n",
        "    def __init__(self,handles,capacity,items):\n",
        "        self.handles = handles\n",
        "        self.capacity = capacity\n",
        "        self.items = items\n",
        "        \n",
        "    # Method that shows the shoppingBag items\n",
        "    def showShoppingBag(self):\n",
        "        print(\"You Have items in your bag!!!\")\n",
        "        for item in self.items:\n",
        "            print(item)\n",
        "    \n",
        "    # Show capacity of shoppingBag\n",
        "    def showCapacity(self):\n",
        "        print(f'Your Capacity is: {self.capacity}')\n",
        "        \n",
        "    # Add Item(s) to the items list for the shoppingBag\n",
        "    def addToShoppingBag(self):\n",
        "        products = input('What would you like to add? ')\n",
        "        self.items.append(products)\n",
        "        \n",
        "    # Change the capacity of the shoppingBag (dynamically)\n",
        "    def changeBagCapacity(self, capacity):\n",
        "        self.capacity = capacity\n",
        "        \n",
        "    # Increase Capacity of the shoppingBag by 10 -- default\n",
        "    def increaseCapacity(self, changed_capacity = 10):\n",
        "        if self.capacity == isinstance(self.capacity, str):\n",
        "            print(\"We can't do that here boss...\")\n",
        "        else:\n",
        "            self.capacity += changed_capacity"
      ]
    },
    {
      "cell_type": "markdown",
      "metadata": {
        "id": "_G8DtgBdZN0M"
      },
      "source": [
        "##### Calling"
      ]
    },
    {
      "cell_type": "code",
      "execution_count": 6,
      "metadata": {
        "id": "AAz9L2NCZN0N",
        "outputId": "c2664224-b6f0-4ef6-8101-5f1b64c96bd5",
        "colab": {
          "base_uri": "https://localhost:8080/"
        }
      },
      "outputs": [
        {
          "output_type": "stream",
          "name": "stdout",
          "text": [
            "What do you want to do? add/show/ or quitadd\n",
            "What would you like to add? pizza\n",
            "What do you want to do? add/show/ or quitshow\n",
            "You Have items in your bag!!!\n",
            "pizza\n",
            "What do you want to do? add/show/ or quitquit\n",
            "You Have items in your bag!!!\n",
            "pizza\n",
            "Thanks for shopping\n"
          ]
        }
      ],
      "source": [
        "# See Above\n",
        "# Created and instance of the ShoppingBag Class\n",
        "wholeFoods_bag = ShoppingBag(2,10,[])\n",
        "\n",
        "# Create Function to run the shoppingBag(wholeFoods_bag) methods\n",
        "\n",
        "def run():\n",
        "    while True:\n",
        "        response = input('What do you want to do? add/show/ or quit')\n",
        "        \n",
        "        if response.lower() == 'quit':\n",
        "            wholeFoods_bag.showShoppingBag()\n",
        "            print('Thanks for shopping')\n",
        "            break\n",
        "        elif response.lower() == 'add':\n",
        "            wholeFoods_bag.addToShoppingBag()\n",
        "            \n",
        "        elif response.lower() == 'show':\n",
        "            wholeFoods_bag.showShoppingBag()\n",
        "            \n",
        "run()"
      ]
    },
    {
      "cell_type": "markdown",
      "metadata": {
        "id": "RhZYKvGhZN0N"
      },
      "source": [
        "##### Modifying an Attribute's Value Through a Method"
      ]
    },
    {
      "cell_type": "code",
      "execution_count": null,
      "metadata": {
        "id": "PKmRuoA6ZN0N",
        "outputId": "b1f96dd5-fb29-4dac-8f9d-c39e516480c4"
      },
      "outputs": [
        {
          "name": "stdout",
          "output_type": "stream",
          "text": [
            "Your Capacity is: 10\n",
            "Capacity AFTER the change...\n",
            "Your Capacity is: 40\n"
          ]
        }
      ],
      "source": [
        "# Show Capacity\n",
        "wholeFoods_bag.showCapacity()\n",
        "print('Capacity AFTER the change...')\n",
        "wholeFoods_bag.changeBagCapacity(40)\n",
        "wholeFoods_bag.showCapacity()"
      ]
    },
    {
      "cell_type": "markdown",
      "metadata": {
        "id": "GuCUYFq-ZN0N"
      },
      "source": [
        "##### Incrementing an Attribute's Value Through a Method"
      ]
    },
    {
      "cell_type": "code",
      "execution_count": null,
      "metadata": {
        "id": "Msd8D16AZN0N",
        "outputId": "cd4aa3d0-d4e2-4605-b36e-6e77781a3d89"
      },
      "outputs": [
        {
          "name": "stdout",
          "output_type": "stream",
          "text": [
            "Your Capacity is: 40\n",
            "After Increase\n",
            "Your Capacity is: 50\n"
          ]
        }
      ],
      "source": [
        "wholeFoods_bag.showCapacity()\n",
        "print('After Increase')\n",
        "wholeFoods_bag.increaseCapacity()\n",
        "wholeFoods_bag.showCapacity()"
      ]
    },
    {
      "cell_type": "markdown",
      "metadata": {
        "id": "AXFQC83XZN0N"
      },
      "source": [
        "##### In-Class Exercise #3 - Add a method that takes in three parameters of year, doors and seats and prints out a formatted print statement with make, model, year, seats, and doors"
      ]
    },
    {
      "cell_type": "code",
      "execution_count": null,
      "metadata": {
        "id": "JWlGJ988ZN0O",
        "outputId": "b283ffc3-b6ee-4e32-c78d-31ece5dd4fd6"
      },
      "outputs": [
        {
          "name": "stdout",
          "output_type": "stream",
          "text": [
            "This car is a 2015 Ford Focus with 5 doors and 4 seats\n"
          ]
        }
      ],
      "source": [
        "# Create class with 2 paramters inside of the __init__ which are make and model\n",
        "\n",
        "# Inside of the Car class create a method that has 4 parameter in total (self,year,door,seats)\n",
        "\n",
        "# Output: This car is from 2019 and is a Ford Expolorer and has 4 doors and 5 seats\n",
        "class Car():\n",
        "    def __init__(self,make,model):\n",
        "        self.make = make\n",
        "        self.model = model\n",
        "    \n",
        "    def addDetails(self,year,doors,seats):\n",
        "        print(f'This car is a {year} {self.make} {self.model} with {doors} doors and {seats} seats')\n",
        "        \n",
        "#     def addDetails(self,year,doors,seats):\n",
        "#         self.year = year\n",
        "#         self.doors = doors\n",
        "#         self.seats = seats\n",
        "#         print(f\"This car is a {self.year} {self.make} {self.model} with {self.doors} doors and {self.seats} seats.\")\n",
        "\n",
        "    \n",
        "        \n",
        "my_car = Car('Ford','Focus')\n",
        "my_car.addDetails(2015,5,4)\n"
      ]
    },
    {
      "cell_type": "markdown",
      "metadata": {
        "id": "JoY8ULNbZN0O"
      },
      "source": [
        "## Inheritance <br>\n",
        "<p>You can create a child-parent relationship between two classes by using inheritance. What this allows you to do is have overriding methods, but also inherit traits from the parent class. Think of it as an actual parent and child, the child will inherit the parent's genes, as will the classes in OOP</p>"
      ]
    },
    {
      "cell_type": "markdown",
      "metadata": {
        "id": "jGkFPS5HZN0O"
      },
      "source": [
        "##### Syntax for Inheriting from a Parent Class"
      ]
    },
    {
      "cell_type": "code",
      "execution_count": null,
      "metadata": {
        "id": "AWfxZUcBZN0O",
        "outputId": "05dd1f68-36ab-4800-cb70-c783fd966820"
      },
      "outputs": [
        {
          "name": "stdout",
          "output_type": "stream",
          "text": [
            "Bark\n",
            "Make Some Generic Sound\n",
            "None\n",
            "9.8\n"
          ]
        }
      ],
      "source": [
        "# Creation of our Parent Class -- Animal\n",
        "class Animal():\n",
        "    acceleration = 9.8\n",
        "    \n",
        "    def __init__(self,name,species,legs = 4):\n",
        "        self.name = name\n",
        "        self.species = species\n",
        "        self.legs = legs\n",
        "        \n",
        "    # Generic Parent(Animal) Method -- NO OVERRIDE YET\n",
        "    def makeSound(self):\n",
        "        print('Make Some Generic Sound')\n",
        "        \n",
        "# Creation of our Child Class -- Dog\n",
        "class Dog(Animal):\n",
        "    speed = 15\n",
        "    \n",
        "    def printInfo(self):\n",
        "        print(f\"The Dog has {self.speed}mph in speed and {self.acceleration}\")\n",
        "        \n",
        "\n",
        "# Creation of our Grand-Child Class -- Mut\n",
        "class Mut(Dog):\n",
        "    color = 'black & brown'\n",
        "    \n",
        "    # Overriding of the ANIMAL Class __init__ method (by way of using the Dog class)\n",
        "    def __init__(self, name, species, eye_color, legs = 4):\n",
        "        Dog.__init__(self,name,species,legs) \n",
        "        self.eye_color = eye_color\n",
        "        \n",
        "    # Overide the makeSound method (again coming from the ANIMAL class)\n",
        "    def makeSound(self):\n",
        "        noise = 'Bark'\n",
        "        return noise\n",
        "        \n",
        "lassie = Dog('Lassie','Dog')\n",
        "basic_animal = Animal('Generic Animal Name', 'Generic Animal Species')\n",
        "buster = Mut('Buster', 'Mut','black')\n",
        "\n",
        "print(buster.makeSound())\n",
        "print(basic_animal.makeSound())\n",
        "print(buster.acceleration)\n",
        "\n",
        "# Checking the inheritance tree for our Mut class\n"
      ]
    },
    {
      "cell_type": "markdown",
      "metadata": {
        "id": "34hIxediZN0O"
      },
      "source": [
        "##### The \\__init\\__() Method for a Child Class - super()"
      ]
    },
    {
      "cell_type": "code",
      "execution_count": null,
      "metadata": {
        "scrolled": true,
        "id": "9249SNxbZN0O",
        "outputId": "038b9134-3b5a-4c47-daa7-ad488f72d6f5"
      },
      "outputs": [
        {
          "name": "stdout",
          "output_type": "stream",
          "text": [
            "Bark\n",
            "Make Some Generic Sound\n",
            "None\n",
            "9.8\n",
            "Help on class Mut in module __main__:\n",
            "\n",
            "class Mut(Dog)\n",
            " |  Mut(name, species, eye_color, legs=4)\n",
            " |  \n",
            " |  Method resolution order:\n",
            " |      Mut\n",
            " |      Dog\n",
            " |      Animal\n",
            " |      builtins.object\n",
            " |  \n",
            " |  Methods defined here:\n",
            " |  \n",
            " |  __init__(self, name, species, eye_color, legs=4)\n",
            " |      Initialize self.  See help(type(self)) for accurate signature.\n",
            " |  \n",
            " |  makeSound(self)\n",
            " |      # Overide the makeSound method (again coming from the ANIMAL class)\n",
            " |  \n",
            " |  ----------------------------------------------------------------------\n",
            " |  Data and other attributes defined here:\n",
            " |  \n",
            " |  color = 'black & brown'\n",
            " |  \n",
            " |  ----------------------------------------------------------------------\n",
            " |  Methods inherited from Dog:\n",
            " |  \n",
            " |  printInfo(self)\n",
            " |  \n",
            " |  ----------------------------------------------------------------------\n",
            " |  Data and other attributes inherited from Dog:\n",
            " |  \n",
            " |  speed = 15\n",
            " |  \n",
            " |  ----------------------------------------------------------------------\n",
            " |  Data descriptors inherited from Animal:\n",
            " |  \n",
            " |  __dict__\n",
            " |      dictionary for instance variables (if defined)\n",
            " |  \n",
            " |  __weakref__\n",
            " |      list of weak references to the object (if defined)\n",
            " |  \n",
            " |  ----------------------------------------------------------------------\n",
            " |  Data and other attributes inherited from Animal:\n",
            " |  \n",
            " |  acceleration = 9.8\n",
            "\n"
          ]
        }
      ],
      "source": [
        "class Mut(Dog):\n",
        "    color = 'black & brown'\n",
        "    \n",
        "    # Overriding of the ANIMAL Class __init__ method (by way of using the Dog class)\n",
        "    def __init__(self, name, species, eye_color, legs = 4):\n",
        "        super().__init__(name,species,legs) \n",
        "        self.eye_color = eye_color\n",
        "        \n",
        "    # Overide the makeSound method (again coming from the ANIMAL class)\n",
        "    def makeSound(self):\n",
        "        noise = 'Bark'\n",
        "        return noise\n",
        "    \n",
        "lassie = Dog('Lassie','Dog')\n",
        "basic_animal = Animal('Generic Animal Name', 'Generic Animal Species')\n",
        "buster = Mut('Buster', 'Mut','black')\n",
        "\n",
        "print(buster.makeSound())\n",
        "print(basic_animal.makeSound())\n",
        "print(buster.acceleration)\n",
        "\n",
        "help(Mut)"
      ]
    },
    {
      "cell_type": "markdown",
      "metadata": {
        "id": "lifgfPO_ZN0P"
      },
      "source": [
        "##### Defining Attributes and Methods for the Child Class"
      ]
    },
    {
      "cell_type": "code",
      "execution_count": null,
      "metadata": {
        "id": "2ylqdi1nZN0P"
      },
      "outputs": [],
      "source": [
        "# See Above"
      ]
    },
    {
      "cell_type": "markdown",
      "metadata": {
        "id": "fYUN1gReZN0P"
      },
      "source": [
        "##### Method Overriding"
      ]
    },
    {
      "cell_type": "code",
      "execution_count": null,
      "metadata": {
        "id": "Oh0zp1KjZN0P"
      },
      "outputs": [],
      "source": [
        "# See Above"
      ]
    },
    {
      "cell_type": "markdown",
      "metadata": {
        "id": "PKLfbD8WZN0P"
      },
      "source": [
        "## Classes as Attributes <br>\n",
        "<p>Classes can also be used as attributes within another class. This is useful in situations where you need to keep variables locally stored, instead of globally stored.</p>"
      ]
    },
    {
      "cell_type": "code",
      "execution_count": null,
      "metadata": {
        "id": "cLBEZXp1ZN0P",
        "outputId": "b0b7d0bf-36ea-413b-d9fa-dd91f02a2a21"
      },
      "outputs": [
        {
          "name": "stdout",
          "output_type": "stream",
          "text": [
            "20\n"
          ]
        },
        {
          "data": {
            "text/plain": [
              "'2019 Tesla Model X 20'"
            ]
          },
          "execution_count": 44,
          "metadata": {},
          "output_type": "execute_result"
        }
      ],
      "source": [
        "class Battery():\n",
        "    volts = 7.8\n",
        "    \n",
        "    def __init__(self, cells):\n",
        "        self.cells = cells\n",
        "        \n",
        "class Car():\n",
        "    def __init__(self,year,make,model,battery):\n",
        "        self.year = year\n",
        "        self.make = make\n",
        "        self.model = model\n",
        "        self.battery = battery\n",
        "        \n",
        "    def printInfo(self):\n",
        "        return f'{self.year} {self.make} {self.model} {self.battery.cells}'\n",
        "    \n",
        "battery = Battery(20)\n",
        "\n",
        "telsa = Car(2019, 'Tesla', \"Model X\", battery)\n",
        "\n",
        "print(telsa.battery.cells)\n",
        "telsa.printInfo()"
      ]
    },
    {
      "cell_type": "markdown",
      "metadata": {
        "id": "t0i2SuLTZN0P"
      },
      "source": [
        "# Exercises"
      ]
    },
    {
      "cell_type": "markdown",
      "metadata": {
        "id": "cLZbiRrHZN0P"
      },
      "source": [
        "### Exercise 1 - Turn the shopping cart program from yesterday into an object-oriented program\n",
        "\n",
        "The comments in the cell below are there as a guide for thinking about the problem. However, if you feel a different way is best for you and your own thought process, please do what feels best for you by all means."
      ]
    },
    {
      "cell_type": "code",
      "execution_count": 31,
      "metadata": {
        "id": "ng81ueKRZN0Q",
        "outputId": "fbe5c393-5bed-4d35-d95d-36384ab624e5",
        "colab": {
          "base_uri": "https://localhost:8080/"
        }
      },
      "outputs": [
        {
          "output_type": "stream",
          "name": "stdout",
          "text": [
            "What do you want to do? add/remove/show or quit quit\n",
            "Your items are: []\n",
            "Thanks for shopping\n"
          ]
        }
      ],
      "source": [
        "# Create a class called cart that retains items and has methods to add, remove, and show\n",
        "\n",
        "class Carts():\n",
        "    def __init__(self,items):\n",
        "          self.items = items\n",
        "\n",
        " \n",
        "    def showitems(self):\n",
        "          print(f'Your items are: {self.items}') \n",
        "    def addToCart(self):\n",
        "          products = input('What would you like to add? ')\n",
        "          self.items.append(products)\n",
        "    def removeFromCart(self):\n",
        "          products = input('What would you like to remove? ')\n",
        "          self.items.remove(products)\n",
        "\n",
        "\n",
        "shopping_cart = Carts([])\n",
        "\n",
        "def run():\n",
        "    while True:\n",
        "        response = input('What do you want to do? add/remove/show or quit ')\n",
        "        \n",
        "        if response.lower() == 'quit':\n",
        "            shopping_cart.showitems()\n",
        "            print('Thanks for shopping')\n",
        "            break\n",
        "        elif response.lower() == 'add':\n",
        "            shopping_cart.addToCart()\n",
        "            \n",
        "        elif response.lower() == 'show':\n",
        "            shopping_cart.showitems()\n",
        "        elif response.lower() == 'remove':\n",
        "            shopping_cart.removeFromCart()\n",
        "            \n",
        "run()\n",
        "    \n",
        "    "
      ]
    },
    {
      "cell_type": "markdown",
      "metadata": {
        "id": "t9kllZ2vZN0Q"
      },
      "source": [
        "### Exercise 2 - Write a Python class which has two methods get_String and print_String. get_String accept a string from the user and print_String print the string in upper case"
      ]
    },
    {
      "cell_type": "code",
      "execution_count": 36,
      "metadata": {
        "id": "3HJyBeaDZN0Q",
        "outputId": "9dba54f9-e033-42fa-865d-f62a6268032b",
        "colab": {
          "base_uri": "https://localhost:8080/"
        }
      },
      "outputs": [
        {
          "output_type": "stream",
          "name": "stdout",
          "text": [
            "Enter word: bat\n",
            "BAT\n"
          ]
        }
      ],
      "source": [
        "class String():\n",
        "    def __init__(self):\n",
        "        self.str = \"\"\n",
        "\n",
        "    def get_String(self):\n",
        "        self.str = input('Enter word: ')\n",
        "\n",
        "    def print_String(self):\n",
        "        print(self.str.upper())\n",
        "\n",
        "str = String()\n",
        "str.get_String()\n",
        "str.print_String()\n",
        "\n",
        "\n"
      ]
    }
  ],
  "metadata": {
    "kernelspec": {
      "display_name": "Python 3",
      "language": "python",
      "name": "python3"
    },
    "language_info": {
      "codemirror_mode": {
        "name": "ipython",
        "version": 3
      },
      "file_extension": ".py",
      "mimetype": "text/x-python",
      "name": "python",
      "nbconvert_exporter": "python",
      "pygments_lexer": "ipython3",
      "version": "3.8.5"
    },
    "colab": {
      "provenance": []
    }
  },
  "nbformat": 4,
  "nbformat_minor": 0
}